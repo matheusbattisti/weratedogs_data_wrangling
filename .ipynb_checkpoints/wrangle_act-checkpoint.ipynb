{
 "cells": [
  {
   "cell_type": "markdown",
   "metadata": {},
   "source": [
    "## Introdução\n",
    "\n",
    "O objetivo deste notebook é fazer a extração/obtenção de três datasets de maneiras diferentes, o primeiro um arquivo de CSV dado pela Udacity, o segundo será feito o download do arquivo hospedado nos servidores da Udacity também, e por fim o último se trata de uma extração de dados diretamente do Twitter via API com auxílio da lib tweepy.\n",
    "\n",
    "Inicialmente vamos importar as bibliotecas necessárias para o projeto:"
   ]
  },
  {
   "cell_type": "code",
   "execution_count": 2,
   "metadata": {},
   "outputs": [],
   "source": [
    "# Importando libs que serão utilizadas no projeto\n",
    "import pandas as pd\n",
    "import requests\n",
    "import json\n",
    "import tweepy"
   ]
  },
  {
   "cell_type": "code",
   "execution_count": null,
   "metadata": {},
   "outputs": [],
   "source": []
  },
  {
   "cell_type": "code",
   "execution_count": null,
   "metadata": {},
   "outputs": [],
   "source": [
    "# Lendo os datasets originais\n"
   ]
  }
 ],
 "metadata": {
  "kernelspec": {
   "display_name": "Python 3",
   "language": "python",
   "name": "python3"
  }
 },
 "nbformat": 4,
 "nbformat_minor": 2
}
